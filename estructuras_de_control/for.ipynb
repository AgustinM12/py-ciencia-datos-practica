{
 "cells": [
  {
   "cell_type": "markdown",
   "metadata": {},
   "source": [
    "\n",
    "### Sintaxis:\n",
    "\n",
    "## NOTA!: itera sobre una coleccion de elementos, es decir, recorre diferentes elementos de un conjunto de datos y ejecuta cierto bloque de codigo."
   ]
  },
  {
   "cell_type": "code",
   "execution_count": 3,
   "metadata": {},
   "outputs": [
    {
     "name": "stdout",
     "output_type": "stream",
     "text": [
      "0\n",
      "1\n",
      "2\n",
      "3\n",
      "0\n",
      "1\n",
      "2\n",
      "3\n",
      "4\n",
      "5\n",
      "6\n",
      "7\n",
      "8\n",
      "9\n",
      "10\n"
     ]
    }
   ],
   "source": [
    "for iterador in [0,1,2,3]:\n",
    "    print(iterador)\n",
    "\n",
    "# ! FORMA RECOMENDADA DE USAR EL FOR:\n",
    "\n",
    "for i in range(0,10+1):\n",
    "    print(i)"
   ]
  },
  {
   "cell_type": "markdown",
   "metadata": {},
   "source": [
    "* se puede recorrer cualquier conjunto de datos: **list, tuple, set, dict** (aunque solo recorre las claves, para recorrer los valores, usar el metodo **.values()**, y para recorrer los pares, **.items()**)"
   ]
  },
  {
   "cell_type": "code",
   "execution_count": null,
   "metadata": {},
   "outputs": [
    {
     "name": "stdout",
     "output_type": "stream",
     "text": [
      "1  -  5\n",
      "juan 21\n",
      "luis 30\n",
      "matias 40\n",
      "21\n",
      "30\n",
      "40\n",
      "juan\n",
      "luis\n",
      "matias\n"
     ]
    }
   ],
   "source": [
    "dict = {\"juan\":21, \"luis\": 30, \"matias\": 40}\n",
    "\n",
    "for idx, value in dict.items():\n",
    "    print(idx, value)\n",
    "    \n",
    "for value in dict.values():\n",
    "    print(value)\n",
    "    \n",
    "for idx in dict:\n",
    "    print(idx)"
   ]
  },
  {
   "cell_type": "markdown",
   "metadata": {},
   "source": [
    "Utilizar **else** en bucles **for** y **while**\n",
    "\n",
    "* el **else** se ejecuta al momento de que el bucle se acabe de manera natural, es decir, sin forzarse con break."
   ]
  },
  {
   "cell_type": "code",
   "execution_count": null,
   "metadata": {},
   "outputs": [
    {
     "name": "stdout",
     "output_type": "stream",
     "text": [
      "0\n",
      "1\n",
      "2\n",
      "3\n",
      "fin\n"
     ]
    }
   ],
   "source": [
    "for i in range(3+1):\n",
    "    print(i)\n",
    "else:\n",
    "    print(\"fin\")"
   ]
  }
 ],
 "metadata": {
  "kernelspec": {
   "display_name": "env",
   "language": "python",
   "name": "python3"
  },
  "language_info": {
   "codemirror_mode": {
    "name": "ipython",
    "version": 3
   },
   "file_extension": ".py",
   "mimetype": "text/x-python",
   "name": "python",
   "nbconvert_exporter": "python",
   "pygments_lexer": "ipython3",
   "version": "3.13.1"
  }
 },
 "nbformat": 4,
 "nbformat_minor": 2
}
