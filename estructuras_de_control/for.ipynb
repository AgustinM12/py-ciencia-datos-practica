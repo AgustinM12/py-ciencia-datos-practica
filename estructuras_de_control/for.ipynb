{
 "cells": [
  {
   "cell_type": "markdown",
   "metadata": {},
   "source": [
    "## itera sobre una coleccion de elementos, es decir, recorre diferentes elementos de un conjunto de datos y ejecuta cierto bloque de codigo.\n",
    "\n",
    "### Sintaxis:"
   ]
  },
  {
   "cell_type": "code",
   "execution_count": 1,
   "metadata": {},
   "outputs": [
    {
     "name": "stdout",
     "output_type": "stream",
     "text": [
      "0\n",
      "1\n",
      "2\n",
      "3\n"
     ]
    }
   ],
   "source": [
    "for iterador in [0,1,2,3]:\n",
    "    print(iterador)"
   ]
  },
  {
   "cell_type": "markdown",
   "metadata": {},
   "source": [
    "* se puede recorrer cualquier conjunto de datos: list, tuple, set, dict (aunque solo recorre las claves, para recorrer los valores, usar el metodo \".values()\", y para recorrer los pares, \".items()\" )\n",
    "\n"
   ]
  },
  {
   "cell_type": "code",
   "execution_count": 2,
   "metadata": {},
   "outputs": [
    {
     "name": "stdout",
     "output_type": "stream",
     "text": [
      "agustin 21\n",
      "pepe 30\n",
      "messi 40\n",
      "21\n",
      "30\n",
      "40\n",
      "agustin\n",
      "pepe\n",
      "messi\n"
     ]
    }
   ],
   "source": [
    "dict = {\"agustin\":21, \"pepe\": 30, \"messi\": 40}\n",
    "\n",
    "for idx,value in dict.items():\n",
    "    print(idx, value)\n",
    "    \n",
    "for value in dict.values():\n",
    "    print(value)\n",
    "    \n",
    "for idx in dict:\n",
    "    print(idx)"
   ]
  },
  {
   "cell_type": "code",
   "execution_count": null,
   "metadata": {},
   "outputs": [
    {
     "name": "stdout",
     "output_type": "stream",
     "text": [
      "contraseña incorrecta\n",
      "contraseña incorrecta\n",
      "contraseña incorrecta\n",
      "Se acabaron los intentos\n"
     ]
    }
   ],
   "source": [
    "intentos = 3\n",
    "\n",
    "while intentos > 0:\n",
    "    if input(\"Ingrese una contraseña: \") == \"123\":\n",
    "        print(\"Correcto\")\n",
    "    intentos = intentos -1\n",
    "    print(\"contraseña incorrecta\")\n",
    "else:\n",
    "    print(\"Se acabaron los intentos\")\n",
    "\n",
    "# ! NOTA: el else se ejecuta al momento de que el bucle se acabe de manera natural, es decir, sin forzarse con break. "
   ]
  }
 ],
 "metadata": {
  "kernelspec": {
   "display_name": "env",
   "language": "python",
   "name": "python3"
  },
  "language_info": {
   "codemirror_mode": {
    "name": "ipython",
    "version": 3
   },
   "file_extension": ".py",
   "mimetype": "text/x-python",
   "name": "python",
   "nbconvert_exporter": "python",
   "pygments_lexer": "ipython3",
   "version": "3.13.1"
  }
 },
 "nbformat": 4,
 "nbformat_minor": 2
}
