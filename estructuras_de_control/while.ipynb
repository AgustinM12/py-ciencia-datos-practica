{
 "cells": [
  {
   "cell_type": "markdown",
   "metadata": {},
   "source": [
    "### Sintaxis:"
   ]
  },
  {
   "cell_type": "code",
   "execution_count": null,
   "metadata": {},
   "outputs": [],
   "source": [
    "while():    \n",
    "    pass"
   ]
  },
  {
   "cell_type": "markdown",
   "metadata": {},
   "source": [
    "Lo que hace es ejecutar una porcion de codigo indefinidamente siempre que la expresion sea evaluada como True, al resultar False, se termina la ejecucion. \n",
    "\n",
    "## NOTA: recordar siempre cambiar la expresion evaluada, de lo contrario la instruccion se ejecutara infinitamente"
   ]
  },
  {
   "cell_type": "code",
   "execution_count": 1,
   "metadata": {},
   "outputs": [
    {
     "name": "stdout",
     "output_type": "stream",
     "text": [
      "El contenido del contador es:  2\n",
      "El contenido del contador es:  1\n",
      "El contenido del contador es:  0\n"
     ]
    }
   ],
   "source": [
    "\n",
    "# ! EJEMPLO\n",
    "\n",
    "contador = 3\n",
    "\n",
    "while contador != 0:\n",
    "    contador = contador -1\n",
    "    print(\"El contenido del contador es: \", contador)"
   ]
  },
  {
   "cell_type": "code",
   "execution_count": null,
   "metadata": {},
   "outputs": [
    {
     "name": "stdout",
     "output_type": "stream",
     "text": [
      "Vuelta N° 0\n"
     ]
    }
   ],
   "source": [
    "for idx in range(3):\n",
    "    print(\"Vuelta N°\", idx)\n",
    "else:\n",
    "    print(\"Se acabaron las vueltas\")\n",
    "\n",
    "# ! NOTA: el else se ejecuta al momento de que el bucle se acabe de manera natural, es decir, sin forzarse con break. "
   ]
  }
 ],
 "metadata": {
  "kernelspec": {
   "display_name": "env",
   "language": "python",
   "name": "python3"
  },
  "language_info": {
   "codemirror_mode": {
    "name": "ipython",
    "version": 3
   },
   "file_extension": ".py",
   "mimetype": "text/x-python",
   "name": "python",
   "nbconvert_exporter": "python",
   "pygments_lexer": "ipython3",
   "version": "3.13.1"
  }
 },
 "nbformat": 4,
 "nbformat_minor": 2
}
