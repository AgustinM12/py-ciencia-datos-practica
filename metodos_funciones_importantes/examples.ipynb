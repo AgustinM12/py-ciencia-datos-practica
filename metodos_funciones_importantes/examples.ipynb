{
 "cells": [
  {
   "cell_type": "code",
   "execution_count": null,
   "metadata": {},
   "outputs": [],
   "source": [
    "\n",
    "#! impremir en consola, equivalente al console.log() de JS\n",
    "print(\"Hola Mundo!\")"
   ]
  },
  {
   "cell_type": "code",
   "execution_count": null,
   "metadata": {},
   "outputs": [
    {
     "name": "stdout",
     "output_type": "stream",
     "text": [
      "6\n",
      "1\n",
      "2\n",
      "3\n",
      "4\n",
      "5\n",
      "6\n",
      "7\n",
      "8\n",
      "9\n"
     ]
    }
   ],
   "source": [
    "\n",
    "# ! Nos devuelve la canidad de elementos que hay en el conjunto de datos\n",
    "print(len([0,1,2,3,4,5]))\n",
    "\n",
    "# ! genera una secuencia de numeros enteros en un intervalo especifico, SE USA ESPECIALMENTE CON LSO BUCLES \"FOR\"\n",
    "\n",
    "# ! comenzara en el primer valor y seguira hasta uno antes del segundo valor, step se refiere a la cantidad de saltos que dara el intervalo\n",
    "\n",
    "# * solo es necesario un valor, en ese caso el start default sera 0 y el step 1\n",
    "#range(start, stop, step)\n",
    "\n",
    "for idx in range(1,10,1):\n",
    "    print(idx)"
   ]
  }
 ],
 "metadata": {
  "kernelspec": {
   "display_name": "env",
   "language": "python",
   "name": "python3"
  },
  "language_info": {
   "codemirror_mode": {
    "name": "ipython",
    "version": 3
   },
   "file_extension": ".py",
   "mimetype": "text/x-python",
   "name": "python",
   "nbconvert_exporter": "python",
   "pygments_lexer": "ipython3",
   "version": "3.13.1"
  }
 },
 "nbformat": 4,
 "nbformat_minor": 2
}
