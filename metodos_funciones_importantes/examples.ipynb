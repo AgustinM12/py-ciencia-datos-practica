{
 "cells": [
  {
   "cell_type": "code",
   "execution_count": null,
   "metadata": {},
   "outputs": [],
   "source": [
    "\n",
    "\n",
    "# ! impremir en consola, equivalente al console.log() de JS\n",
    "print(\"Hola Mundo!\")"
   ]
  },
  {
   "cell_type": "code",
   "execution_count": null,
   "metadata": {},
   "outputs": [
    {
     "name": "stdout",
     "output_type": "stream",
     "text": [
      "6\n",
      "1\n",
      "2\n",
      "3\n",
      "4\n",
      "5\n",
      "6\n",
      "7\n",
      "8\n",
      "9\n"
     ]
    }
   ],
   "source": [
    "\n",
    "# ! Nos devuelve la canidad de elementos que hay en el conjunto de datos\n",
    "print(len([0,1,2,3,4,5]))\n",
    "\n",
    "# ! genera una secuencia de numeros enteros en un intervalo especifico, SE USA ESPECIALMENTE CON LSO BUCLES \"FOR\"\n",
    "\n",
    "# ! comenzara en el primer valor y seguira hasta uno antes del segundo valor, step se refiere a la cantidad de saltos que dara el intervalo\n",
    "\n",
    "# * solo es necesario un valor, en ese caso el start default sera 0 y el step 1\n",
    "#range(start, stop, step)\n",
    "\n",
    "for idx in range(1,10,1):\n",
    "    print(idx)"
   ]
  },
  {
   "cell_type": "code",
   "execution_count": null,
   "metadata": {},
   "outputs": [],
   "source": [
    "\n",
    "# ! Nos pedira que ingresemos una valor mediante la consola, este se convertira en str. Si pasamos como argumento un str, este aparecera en primer lugar.\n",
    "\n",
    "value = input(\"Ingresa un valor\")\n",
    "print(\"El valor ingresado es: \", value)"
   ]
  },
  {
   "cell_type": "code",
   "execution_count": null,
   "metadata": {},
   "outputs": [
    {
     "name": "stdout",
     "output_type": "stream",
     "text": [
      "<class 'int'>\n",
      "<class 'str'>\n",
      "<class 'bool'>\n",
      "<class 'list'>\n",
      "<class 'tuple'>\n",
      "<class 'set'>\n",
      "<class 'dict'>\n"
     ]
    }
   ],
   "source": [
    "\n",
    "# ! Nos devolvera el tipo de dato de una variable\n",
    "\n",
    "val1 = 1\n",
    "val2 = \"hola\"\n",
    "val3 = True\n",
    "val4 = []\n",
    "val5 = ()\n",
    "val6 = {0}\n",
    "val7 = {}\n",
    "\n",
    "\n",
    "print(type(val1))\n",
    "print(type(val2))\n",
    "print(type(val3))\n",
    "print(type(val4))\n",
    "print(type(val5))\n",
    "print(type(val6))\n",
    "print(type(val7))"
   ]
  },
  {
   "cell_type": "code",
   "execution_count": null,
   "metadata": {},
   "outputs": [
    {
     "name": "stdout",
     "output_type": "stream",
     "text": [
      "<class 'int'>\n",
      "<class 'int'>\n",
      "<class 'int'>\n",
      "<class 'int'>\n"
     ]
    }
   ],
   "source": [
    "\n",
    "# ! conversion de tipos \n",
    "# ! NOTA: ES IMPORTANTE QUE LOS TIPOS QUE SE VAN A CONVERTIR COINCIDAN\n",
    "\n",
    "val8 = \"1\"\n",
    "val9 = 0\n",
    "val10 = 1\n",
    "val11 = 10\n",
    "\n",
    "val8 = int(val8)\n",
    "print(type(val8))\n",
    "bool(val9)\n",
    "val9 = print(type(val9))\n",
    "str(val10)\n",
    "val10 = print(type(val10))\n",
    "float(val11)\n",
    "val11 = print(type(val11))"
   ]
  },
  {
   "cell_type": "code",
   "execution_count": null,
   "metadata": {},
   "outputs": [
    {
     "name": "stdout",
     "output_type": "stream",
     "text": [
      "El valor absoluto de -5 es:  5\n",
      "La potencia de 2^3 es:  8\n",
      "Redondeo de 10.50 10\n",
      "Redondeo de 10.51 11\n",
      "Redondeo de 10.51 10.5\n"
     ]
    }
   ],
   "source": [
    "\n",
    "# ! Operaciones matematicas\n",
    "\n",
    "# ! devuelve el valor absoluto\n",
    "print(\"El valor absoluto de -5 es: \", abs(-5))\n",
    "\n",
    "# ! potencia\n",
    "print(\"La potencia de 2^3 es: \", pow(2,3))\n",
    "\n",
    "# ! Redondear el numero a su entero\n",
    "print(\"Redondeo de 10.50,\", round(10.50))\n",
    "print(\"Redondeo de 10.51,\", round(10.51))\n",
    "\n",
    "# ! O a cifrasdecimales \n",
    "print(\"Redondeo de 10.51,\", round(10.51,1))"
   ]
  },
  {
   "cell_type": "code",
   "execution_count": 7,
   "metadata": {},
   "outputs": [
    {
     "name": "stdout",
     "output_type": "stream",
     "text": [
      "Suma:  6\n",
      "Suma:  6\n",
      "Suma:  6\n"
     ]
    }
   ],
   "source": [
    "\n",
    "# ! suma de los elementos de una tupla, lista o conjunto\n",
    "\n",
    "print(\"Suma: \", sum(list((1,2,3)))) \n",
    "print(\"Suma: \", sum(tuple((1,2,3)))) \n",
    "print(\"Suma: \", sum(set((1,2,3)))) "
   ]
  },
  {
   "cell_type": "code",
   "execution_count": 8,
   "metadata": {},
   "outputs": [
    {
     "name": "stdout",
     "output_type": "stream",
     "text": [
      "Maximo:  3\n",
      "Minimo:  1\n"
     ]
    }
   ],
   "source": [
    "\n",
    "# ! Maximo y minimo\n",
    "\n",
    "print(\"Maximo: \", max(list((1,2,3)))) \n",
    "print(\"Minimo: \", min(list((1,2,3)))) "
   ]
  },
  {
   "cell_type": "code",
   "execution_count": 12,
   "metadata": {},
   "outputs": [
    {
     "name": "stdout",
     "output_type": "stream",
     "text": [
      "[1, 2, 3, 4, 5, 6, 88]\n",
      "[88, 6, 5, 4, 3, 2, 1]\n"
     ]
    }
   ],
   "source": [
    "\n",
    "# ! Ordenar listas de forma ascendente\n",
    "\n",
    "print(sorted(list((3,2,5,6,88,4,1))))\n",
    "\n",
    "\n",
    "# ! Ordenar listas de forma descendente\n",
    "print(sorted(list((3,2,5,6,88,4,1)), reverse=True))"
   ]
  },
  {
   "cell_type": "code",
   "execution_count": null,
   "metadata": {},
   "outputs": [
    {
     "name": "stdout",
     "output_type": "stream",
     "text": [
      "[(1, 'cero'), (2, 'uno'), (3, 'dos'), (4, 'tres')]\n",
      "[(1, 'uno'), (2, 'dos'), (3, 'tres')]\n"
     ]
    }
   ],
   "source": [
    "\n",
    "# ! Genera un rango de valores entre el primer valor y el anterior al segundo\n",
    "range(1,11)\n",
    "\n",
    "# ! Crea una tupla que enumere elementos desde 0, se puede establecer el numero por el cual empezara a contar\n",
    "\n",
    "print(list(enumerate([\"cero\", \"uno\", \"dos\", \"tres\"], start=1)))\n",
    "\n",
    "\n",
    "# ! Combina 2 colecciones en una lista de tuplas, si tienen una cantidad diferente de elementos, se ajustara a la que menos datos tenga\n",
    "print(list(zip([1,2,3],[\"uno\", \"dos\", \"tres\"])))\n"
   ]
  }
 ],
 "metadata": {
  "kernelspec": {
   "display_name": "env",
   "language": "python",
   "name": "python3"
  },
  "language_info": {
   "codemirror_mode": {
    "name": "ipython",
    "version": 3
   },
   "file_extension": ".py",
   "mimetype": "text/x-python",
   "name": "python",
   "nbconvert_exporter": "python",
   "pygments_lexer": "ipython3",
   "version": "3.13.1"
  }
 },
 "nbformat": 4,
 "nbformat_minor": 2
}
