{
 "cells": [
  {
   "cell_type": "code",
   "execution_count": null,
   "id": "1a5c4f9f",
   "metadata": {},
   "outputs": [
    {
     "name": "stdout",
     "output_type": "stream",
     "text": [
      "9 1\n",
      "4 4\n",
      "[1, 3, 4, 7, 9]\n"
     ]
    }
   ],
   "source": [
    "lista = [9,7,4,1,3]\n",
    "\n",
    "#* se recibe la lista a ordenar y el rango actual\n",
    "def particion(lista, elemento_menor, elemento_mayor):\n",
    "    #* Usamos el último elemento del subrango como pivote\n",
    "    pivote = lista[elemento_mayor]\n",
    "    #* i rastrea la posición del último elemento menor o igual al pivote\n",
    "    i = elemento_menor - 1\n",
    "\n",
    "    #* Recorremos desde elemento_menor hasta elemento_mayor - 1\n",
    "    for j in range(elemento_menor, elemento_mayor):\n",
    "        #* Si el elemento actual es menor o igual al pivote\n",
    "        if lista[j] <= pivote:\n",
    "            i += 1\n",
    "            #* Intercambiamos el elemento actual con el que está en la posición i\n",
    "            lista[i], lista[j] = lista[j], lista[i]\n",
    "\n",
    "    #* Finalmente colocamos el pivote en su posición correcta (después de todos los menores)\n",
    "    lista[i + 1], lista[elemento_mayor] = lista[elemento_mayor], lista[i + 1]\n",
    "    return i + 1  #* Devolvemos la posición final del pivote\n",
    "\n",
    "\n",
    "\n",
    "def quicksort_iterativo(lista):\n",
    "    \n",
    "    ##* se crea una pila con el rango de la lista\n",
    "    stack = [(0, len(lista) - 1)]\n",
    "\n",
    "    ##* mientras haya subrangos que ordenar\n",
    "    while stack:\n",
    "        \n",
    "        #* quitamos el ultimo elemento del stack y almacenamos el rango en una variable\n",
    "        elemento_menor, elemento_mayor = stack.pop()\n",
    "\n",
    "        #* si el segundo elemento del rango es mayor\n",
    "        if elemento_menor < elemento_mayor:\n",
    "            #* Particionamos la lista y obtenemos la posición final del pivote\n",
    "            pivote_index = particion(lista, elemento_menor, elemento_mayor)\n",
    "            #* Agregamos el subrango izquierdo (elementos menores al pivote) a la pila\n",
    "            stack.append((elemento_menor, pivote_index - 1))\n",
    "            #* Agregamos el subrango derecho (elementos mayores al pivote) a la pila\n",
    "            stack.append((pivote_index + 1, elemento_mayor))\n",
    "\n",
    "\n",
    "quicksort_iterativo(lista)\n",
    "print(lista) "
   ]
  },
  {
   "cell_type": "code",
   "execution_count": 6,
   "id": "d3064aa8",
   "metadata": {},
   "outputs": [
    {
     "name": "stdout",
     "output_type": "stream",
     "text": [
      "[1, 3, 4, 7, 9]\n"
     ]
    }
   ],
   "source": [
    "lista = [9,7,4,1,3]\n",
    "\n",
    "def quicksort_recursivo(lista):\n",
    "    #* Caso base: si la lista tiene 0 o 1 elementos, ya está ordenada\n",
    "    if len(lista) <= 1:\n",
    "        return lista\n",
    "\n",
    "    #* Seleccionamos el pivote como el elemento de la mitad de la lista\n",
    "    pivote = lista[len(lista) // 2]\n",
    "\n",
    "    #* Sublista con todos los elementos menores al pivote\n",
    "    elemento_izquierda = [x for x in lista if x < pivote]\n",
    "\n",
    "    #* Sublista con todos los elementos iguales al pivote (importante si hay repetidos)\n",
    "    medio = [x for x in lista if x == pivote]\n",
    "\n",
    "    #* Sublista con todos los elementos mayores al pivote\n",
    "    elemento_derecha = [x for x in lista if x > pivote]\n",
    "\n",
    "    #* Llamada recursiva sobre cada sublista y concatenación de los resultados\n",
    "    return quicksort_recursivo(elemento_izquierda) + medio + quicksort_recursivo(elemento_derecha)\n",
    "\n",
    "print(quicksort_recursivo(lista))\n"
   ]
  }
 ],
 "metadata": {
  "kernelspec": {
   "display_name": "env",
   "language": "python",
   "name": "python3"
  },
  "language_info": {
   "codemirror_mode": {
    "name": "ipython",
    "version": 3
   },
   "file_extension": ".py",
   "mimetype": "text/x-python",
   "name": "python",
   "nbconvert_exporter": "python",
   "pygments_lexer": "ipython3",
   "version": "3.13.1"
  }
 },
 "nbformat": 4,
 "nbformat_minor": 5
}
