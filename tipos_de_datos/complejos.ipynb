{
 "cells": [
  {
   "cell_type": "markdown",
   "metadata": {},
   "source": [
    "### Listas\n",
    "\n",
    "[]\n",
    "\n",
    "* ordenadas\n",
    "* heterogeneas\n",
    "* mutables\n",
    "\n",
    "* se accede a los elementos de las listas de la siguiente forma\n",
    "\n",
    "lista = [0,1,2,3,4,5]\n",
    "\n",
    "lista[0] # 0\n",
    "\n",
    "* tambien con indices negativos\n",
    "lista[-1] # 5\n",
    "\n",
    "* acceder a secuencias de una lista (desde el primer indice hasta el anterior del segundo)\n",
    "lista[0:5]\n",
    "\n",
    "* se puden modificar los elementos accediendo a ellos y reasignandolos\n",
    "lista[2] = 35 # [0,1,35,3,4,5]\n",
    "\n",
    "#### Metodos:\n",
    "\n",
    "* append = agrega un elemento al final de la lista\n",
    "\n",
    "* count(elemento) = lista la cantidad de veces que se repite un elemento\n",
    "\n",
    "* index = nos devuelve el indice de la primera aparicion de un elemnto\n",
    "\n",
    "* remove(elemento) = elimina la primera aparicion de un elemento"
   ]
  },
  {
   "cell_type": "markdown",
   "metadata": {},
   "source": [
    "### Tuplas\n",
    "()\n",
    "\n",
    "* ordenadas\n",
    "* heterogeneas\n",
    "* inmutables\n",
    "\n",
    "* se accede a los elementos de la misma manera que con las listas\n",
    "* solo cuentan con el metodo count e index\n"
   ]
  },
  {
   "cell_type": "markdown",
   "metadata": {},
   "source": [
    "### Conjuntos\n",
    "\n",
    "* no ordenados\n",
    "* heterogeneos\n",
    "* mutables \n",
    "* sin repeticion\n",
    "\n",
    "#### Metodos\n",
    "* set = permite crear un conjunto de elementos\n",
    "\n",
    "* remove = elimina elementos\n",
    "\n",
    "* add = agrega elementos al conjunto\n",
    "\n",
    "* intersecction = nos muestra que elementos se repiten en los conjuntos\n",
    "\n",
    "en caso de ser un str, cada caracter sera una nueva posicion \n",
    "los elementos repetidos se eliminaran del conjunto\n",
    "\n",
    "ej: conjunto1.intersection(conjunto2)\n",
    "\n",
    "* issubset = devuelve True o False si un conjunto esta incluido en otro\n",
    "\n",
    "#### Operadores\n",
    "\n",
    "* A | B = union\n",
    "* A - B = diferencia\n",
    "* A >= B = superconjunto\n",
    "* A & B = interseccion \n",
    "* A ^ B = diferencia simetrica\n",
    "* A <= B = subconjunto\n",
    "\n"
   ]
  },
  {
   "cell_type": "markdown",
   "metadata": {},
   "source": [
    "### Diccionarios\n",
    "\n",
    "{key: value}\n",
    "\n",
    "* no ordenados\n",
    "* heterogeneos\n",
    "* mutable\n",
    "\n",
    "* Se puede acceder a los valores colocando la key entre corchetes \n",
    "ej: dict[key] # valor correspondiente\n",
    "\n",
    "* se pueden modificar lso valores accediendo a los mismos y reasignandolos \n",
    "\n",
    "* para agregar uno nuevo par de clave-valor se hace de la misma forma que para acceder a uno, como si ya exitiera\n",
    "\n",
    "dict[nueva_key] = nuevo_valor\n",
    "\n",
    "#### Metodos:\n",
    "\n",
    "* .keys() = devuelve todas las keys \n",
    "\n",
    "* .values() = devuelve todos los valores\n",
    "\n",
    "* .items() = devuelve una tupla con los pares de key y values\n",
    "\n",
    "* .pop(key) = elimina un conjunto de clave-valor"
   ]
  },
  {
   "cell_type": "code",
   "execution_count": null,
   "metadata": {
    "vscode": {
     "languageId": "plaintext"
    }
   },
   "outputs": [],
   "source": []
  }
 ],
 "metadata": {
  "language_info": {
   "name": "python"
  }
 },
 "nbformat": 4,
 "nbformat_minor": 2
}
