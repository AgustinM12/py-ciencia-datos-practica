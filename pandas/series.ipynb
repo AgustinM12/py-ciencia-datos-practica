{
 "cells": [
  {
   "cell_type": "code",
   "execution_count": 3,
   "metadata": {},
   "outputs": [],
   "source": [
    "import pandas as pd"
   ]
  },
  {
   "cell_type": "code",
   "execution_count": null,
   "metadata": {},
   "outputs": [],
   "source": [
    "edades = [22,12,21,45,90,64,34,28,76,13,10,9,53,22]\n",
    "\n",
    "# ! También se pueden crear series a partir de dict, en este caso las key tomaran el valor del index de las series\n",
    "\n",
    "materias = pd.Series({\"matematicas\":60, \"lengua\":20, \"historia\":\n",
    "    0})"
   ]
  },
  {
   "cell_type": "markdown",
   "metadata": {},
   "source": [
    "#### Las series poseen un indice, este indica la posicion en la que se enncuentra dentro de la estructura, similar a los indices de un array, list, etc. NOTA: comienzan desde 0"
   ]
  },
  {
   "cell_type": "code",
   "execution_count": null,
   "metadata": {},
   "outputs": [],
   "source": [
    "serie = pd.Series(edades)\n",
    "print(serie)\n",
    "print(materias)"
   ]
  },
  {
   "cell_type": "markdown",
   "metadata": {},
   "source": [
    "### Definir indices personalizados"
   ]
  },
  {
   "cell_type": "code",
   "execution_count": 4,
   "metadata": {},
   "outputs": [
    {
     "name": "stdout",
     "output_type": "stream",
     "text": [
      "fulbo      messi\n",
      "tenis      bicho\n",
      "basket    neymar\n",
      "dtype: object\n"
     ]
    }
   ],
   "source": [
    "data = [\"messi\", \"bicho\", \"neymar\"]\n",
    "indices = [\"fulbo\", \"tenis\", \"basket\"]\n",
    "\n",
    "new_serie = pd.Series(index=indices, data=data)\n",
    "\n",
    "print(new_serie)"
   ]
  },
  {
   "cell_type": "markdown",
   "metadata": {},
   "source": [
    "#### Poder ver los primeros 5 elementos de la serie"
   ]
  },
  {
   "cell_type": "code",
   "execution_count": 4,
   "metadata": {},
   "outputs": [
    {
     "name": "stdout",
     "output_type": "stream",
     "text": [
      "0    22\n",
      "1    12\n",
      "2    21\n",
      "3    45\n",
      "4    90\n",
      "dtype: int64\n"
     ]
    }
   ],
   "source": [
    "print(serie.head())"
   ]
  },
  {
   "cell_type": "markdown",
   "metadata": {},
   "source": [
    "#### Poder ver los ultimos registros, (pasarle un indice si se requiere, de lo contrario solo seran 5 al igual que head)"
   ]
  },
  {
   "cell_type": "code",
   "execution_count": null,
   "metadata": {},
   "outputs": [
    {
     "name": "stdout",
     "output_type": "stream",
     "text": [
      "0    22\n",
      "1    12\n",
      "2    21\n",
      "3    45\n",
      "4    90\n",
      "dtype: int64\n"
     ]
    }
   ],
   "source": [
    "print(serie.tail(3))"
   ]
  },
  {
   "cell_type": "markdown",
   "metadata": {},
   "source": [
    "#### Obtener valores maximos, minimos y promedio, desviacion estandar, media"
   ]
  },
  {
   "cell_type": "code",
   "execution_count": null,
   "metadata": {},
   "outputs": [
    {
     "name": "stdout",
     "output_type": "stream",
     "text": [
      "9\n",
      "90\n",
      "36.69230769230769\n",
      "28.0\n"
     ]
    }
   ],
   "source": [
    "print(serie.min())\n",
    "print(serie.max())\n",
    "print(serie.mean())\n",
    "print(serie.std())\n",
    "print(serie.median())"
   ]
  },
  {
   "cell_type": "markdown",
   "metadata": {},
   "source": [
    "#### Obtener posiciones en la serie, ambos hacen lo mismo"
   ]
  },
  {
   "cell_type": "code",
   "execution_count": null,
   "metadata": {},
   "outputs": [
    {
     "name": "stdout",
     "output_type": "stream",
     "text": [
      "12\n"
     ]
    }
   ],
   "source": [
    "print(serie[1])\n",
    "print(serie.get(1))"
   ]
  },
  {
   "cell_type": "markdown",
   "metadata": {},
   "source": [
    "#### Filtrar valores, nos devolvera una serie con booleanos que correspondan con la operacion"
   ]
  },
  {
   "cell_type": "code",
   "execution_count": 13,
   "metadata": {},
   "outputs": [
    {
     "data": {
      "text/plain": [
       "0      True\n",
       "1     False\n",
       "2     False\n",
       "3     False\n",
       "4     False\n",
       "5     False\n",
       "6     False\n",
       "7     False\n",
       "8     False\n",
       "9     False\n",
       "10    False\n",
       "11    False\n",
       "12    False\n",
       "dtype: bool"
      ]
     },
     "execution_count": 13,
     "metadata": {},
     "output_type": "execute_result"
    }
   ],
   "source": [
    "serie == 22"
   ]
  },
  {
   "cell_type": "markdown",
   "metadata": {},
   "source": [
    "#### Convertir la serie previa en una serie filtrada con solo los valroes requeridos"
   ]
  },
  {
   "cell_type": "code",
   "execution_count": null,
   "metadata": {},
   "outputs": [
    {
     "name": "stdout",
     "output_type": "stream",
     "text": [
      "0     22\n",
      "13    22\n",
      "dtype: int64\n"
     ]
    }
   ],
   "source": [
    "serie_filtrada = serie[serie==22]\n",
    "serie_filtrada2 = serie[serie < 22]\n",
    "print(serie_filtrada)\n",
    "print(serie_filtrada2)"
   ]
  },
  {
   "cell_type": "markdown",
   "metadata": {},
   "source": [
    "#### Operaciones entre series. \n",
    "\n",
    "# NOTA: en caso de que al sumar las series sean de diferentes tamaños, es decir, que los indices no coincidan, el resultado de los valores incorrectos sera NaN\n",
    "\n",
    "# NOTA2: las sumas se hacen teniendo en cuenta el indice! no las posiciones en las que se muestran"
   ]
  },
  {
   "cell_type": "code",
   "execution_count": 24,
   "metadata": {},
   "outputs": [
    {
     "name": "stdout",
     "output_type": "stream",
     "text": [
      "Serie N°1\n",
      "0    22\n",
      "1    12\n",
      "2    21\n",
      "dtype: int64\n",
      "Serie N°2\n",
      "0    43\n",
      "1    65\n",
      "2    35\n",
      "dtype: int64\n",
      "Suma de series\n",
      "0      65\n",
      "1      77\n",
      "2      56\n",
      "3     112\n",
      "4     102\n",
      "5     128\n",
      "6     120\n",
      "7      52\n",
      "8     151\n",
      "9      58\n",
      "10     96\n",
      "11     21\n",
      "12     96\n",
      "13     98\n",
      "dtype: int64\n"
     ]
    }
   ],
   "source": [
    "serie2 = pd.Series([43,65,35,67,12,64,86,24,75,45,86,12,43,76])\n",
    "\n",
    "print(\"Serie N°1\")\n",
    "print(serie.head(3))\n",
    "print(\"Serie N°2\")\n",
    "print(serie2.head(3))\n",
    "print(\"Suma de series\")\n",
    "print(serie+serie2)\n",
    "\n",
    "\n"
   ]
  },
  {
   "cell_type": "markdown",
   "metadata": {},
   "source": [
    "#### Reordenar indices de forma descendente"
   ]
  },
  {
   "cell_type": "code",
   "execution_count": null,
   "metadata": {},
   "outputs": [
    {
     "name": "stdout",
     "output_type": "stream",
     "text": [
      "13    22\n",
      "12    53\n",
      "11     9\n",
      "10    10\n",
      "9     13\n",
      "8     76\n",
      "7     28\n",
      "6     34\n",
      "5     64\n",
      "4     90\n",
      "3     45\n",
      "2     21\n",
      "1     12\n",
      "0     22\n",
      "dtype: int64\n"
     ]
    }
   ],
   "source": [
    "print(serie.sort_index(ascending=False))"
   ]
  },
  {
   "cell_type": "markdown",
   "metadata": {},
   "source": [
    "Reordenar los valores de forma ascendente"
   ]
  },
  {
   "cell_type": "code",
   "execution_count": null,
   "metadata": {},
   "outputs": [],
   "source": [
    "print(serie.sort_values(ascending=True))"
   ]
  },
  {
   "cell_type": "markdown",
   "metadata": {},
   "source": [
    "#### Realizar operaciones a Series"
   ]
  },
  {
   "cell_type": "code",
   "execution_count": 26,
   "metadata": {},
   "outputs": [
    {
     "name": "stdout",
     "output_type": "stream",
     "text": [
      "0    22\n",
      "1    12\n",
      "2    21\n",
      "3    45\n",
      "4    90\n",
      "dtype: int64\n",
      "0    27\n",
      "1    17\n",
      "2    26\n",
      "3    50\n",
      "4    95\n",
      "dtype: int64\n",
      "0    17\n",
      "1     7\n",
      "2    16\n",
      "3    40\n",
      "4    85\n",
      "dtype: int64\n",
      "0    110\n",
      "1     60\n",
      "2    105\n",
      "3    225\n",
      "4    450\n",
      "dtype: int64\n",
      "0     4.4\n",
      "1     2.4\n",
      "2     4.2\n",
      "3     9.0\n",
      "4    18.0\n",
      "dtype: float64\n"
     ]
    }
   ],
   "source": [
    "print(serie.head())\n",
    "print(serie.head()+5)\n",
    "print(serie.head()-5)\n",
    "print(serie.head()*5)\n",
    "print(serie.head()/5)\n"
   ]
  },
  {
   "cell_type": "markdown",
   "metadata": {},
   "source": [
    "#### Aplicar funciones a series\n",
    "\n",
    "##### En este caso se aplica a cada posicion de la serie una funcion que calcula el cuadrado de cada uno\n",
    "\n",
    "#### La funcion \"map\" recorre cada posicion y aplica una funcion"
   ]
  },
  {
   "cell_type": "code",
   "execution_count": 27,
   "metadata": {},
   "outputs": [
    {
     "name": "stdout",
     "output_type": "stream",
     "text": [
      "0      484\n",
      "1      144\n",
      "2      441\n",
      "3     2025\n",
      "4     8100\n",
      "5     4096\n",
      "6     1156\n",
      "7      784\n",
      "8     5776\n",
      "9      169\n",
      "10     100\n",
      "11      81\n",
      "12    2809\n",
      "13     484\n",
      "dtype: int64\n"
     ]
    }
   ],
   "source": [
    "def cuadrado(x):\n",
    "    return x*x\n",
    "\n",
    "print(serie.map(cuadrado))"
   ]
  },
  {
   "cell_type": "markdown",
   "metadata": {},
   "source": [
    "### Propiedades fundamentales de las series."
   ]
  },
  {
   "cell_type": "code",
   "execution_count": null,
   "metadata": {},
   "outputs": [],
   "source": [
    "\n",
    "print(serie.size)\n",
    "# ! devuelve el numero de elementos de una serie\n",
    "\n",
    "print(serie.index)\n",
    "# ! devuelve una lista con los nombres de las filas (tambien valido para dataframes)\n",
    "\n",
    "print(serie.dtype)\n",
    "# ! devuelve el tipo de datos de los elementos de la serie"
   ]
  }
 ],
 "metadata": {
  "kernelspec": {
   "display_name": "env",
   "language": "python",
   "name": "python3"
  },
  "language_info": {
   "codemirror_mode": {
    "name": "ipython",
    "version": 3
   },
   "file_extension": ".py",
   "mimetype": "text/x-python",
   "name": "python",
   "nbconvert_exporter": "python",
   "pygments_lexer": "ipython3",
   "version": "3.13.1"
  }
 },
 "nbformat": 4,
 "nbformat_minor": 2
}
