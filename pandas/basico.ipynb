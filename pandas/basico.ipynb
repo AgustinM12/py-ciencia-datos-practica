{
 "cells": [
  {
   "cell_type": "markdown",
   "metadata": {},
   "source": [
    "### Existen 2 tipos de datos principales, series y data frames"
   ]
  },
  {
   "cell_type": "markdown",
   "metadata": {},
   "source": [
    "#### Una serie es una secuencia de datos ordenada de cualquier tipo de dato"
   ]
  },
  {
   "cell_type": "markdown",
   "metadata": {},
   "source": [
    "#### Una Data Frame es un conjunto de series, una estructura bidimensional que toma como referencia las columnas, tambien puede incluir cualquier tipo de dato"
   ]
  }
 ],
 "metadata": {
  "language_info": {
   "name": "python"
  }
 },
 "nbformat": 4,
 "nbformat_minor": 2
}
