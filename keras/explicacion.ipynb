{
 "cells": [
  {
   "cell_type": "markdown",
   "id": "00421f9f",
   "metadata": {},
   "source": [
    "### **Capas**: \n",
    "\n",
    "### **Capa densa**\n",
    "\n",
    "### **Dimensionalidad**\n",
    "\n",
    "### **Neurona**\n",
    "\n",
    "### **Sequencial**: \n",
    "\n",
    "### **Optimizador**: \n",
    "\n",
    "### **Perdida/Loss**: Es la penalizacional modelo por una mala prediccion, lo ideal es tratar de reducir al maximo la perdida\n",
    "\n",
    "### **Funcion de activacion**: Calcula la informacion de salida de una neurona.\n",
    "\n",
    "### **Epocas**: La cantidad de veces que el modelo entrena con todos los datos de prueba.\n",
    "\n",
    "### **Learning rate**: Controla que tan rapido se adapta el modelo al problema, cuanto menor sea, mas epocas se necesita. Porque se hacen cambios mas pequeños en los pesos en cada actualizacion.\n",
    "\n",
    "### **Batch_size**:  \n",
    "\n",
    "### **Embedings**:\n",
    "\n",
    "### **Agentes**:"
   ]
  }
 ],
 "metadata": {
  "language_info": {
   "name": "python"
  }
 },
 "nbformat": 4,
 "nbformat_minor": 5
}
