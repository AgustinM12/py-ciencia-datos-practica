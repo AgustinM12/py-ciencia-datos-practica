{
 "cells": [
  {
   "cell_type": "markdown",
   "id": "00421f9f",
   "metadata": {},
   "source": [
    "### **Capas**: Cada capa recibe información de entrada, realiza cálculos y genera una salida. \n",
    "\n",
    "### **Capa entrada**: responsables de recibir datos.\n",
    "\n",
    "### **Capa salida** responsables de generar una salida.\n",
    "\n",
    "### **Capa oculta**: permiten a los modelos aprender relaciones no lineales.\n",
    "\n",
    "### **Capa densa**: Son capas que estan totalmente conectadas entre si, permitiendo que cada una se conecte con su posterior y anterior. Provocando que estan redes tenga la capacidad de aprender patrones y relaciones complejas. La salida de cada neurona se calcula tomando una suma ponderada de las entradas y pasándola a través de una función de activación.\n",
    "\n",
    "### **Dimensionalidad**: El tamaño de los vectores que representa los datos de entrenamiento (se indica con la letra N), es importante debido a que afecta la complejidad del modelo y puede llevar a problemas de sobrea juste.\n",
    "\n",
    "### **Neurona**: Se refiere a un nodo o una unidad de procesamiento en una red neuronal artificial (RNA).Son fundamentales para la comprensión y modelización de relaciones complejas entre datos de entrada y salida. Estas pueden aprender y adaptarse a partir de datos de entrada, permitiendo el reconocimiento de patrones.\n",
    "\n",
    "### **Sequencial**: \n",
    "\n",
    "### **Pesos**: Se refiere a la inclinación de la función lineal, más en especifico son el coeficiente que se aplican a las entradas de las neuronas. Cuanto más alto sea su valor, significa que los datos de entrada provocaran diferencias más grandes en la salida.\n",
    "\n",
    "### **Sesgos**: Es una constante que se agrega a la suma ponderada de las entradas, y su valor negativo reduce el valor de la salida. Estos se producen debido a resultados erroneos, causados por datos de entrenamiento sesgados por \"preferencias\" de los desarrolladores. \n",
    "\n",
    "### **Optimizador**: Algoritmo que ajusta los parámetros de un modelo para minimizar la función de pérdida, mejorando el rendimiento. Son fundamentales ya que guian el proceso de ajuste de los pesos y sesgos de las redes neuronales\n",
    "\n",
    "### **Perdida/Loss**: Es la penalizacional modelo por una mala prediccion, lo ideal es tratar de reducir al maximo la perdida\n",
    "\n",
    "### **Funcion de activacion**: Calcula la informacion de salida de una neurona.\n",
    "\n",
    "### **Epocas**: La cantidad de veces que el modelo entrena con todos los datos de prueba.\n",
    "\n",
    "### **Learning rate**: Controla que tan rapido se adapta el modelo al problema, cuanto menor sea, mas epocas se necesita. Porque se hacen cambios mas pequeños en los pesos en cada actualizacion.\n",
    "\n",
    "### **Batch size**: Se refiere al número de ejemplos de entrenamientoque se procesan en una sola iteración. Es fundamental para optimizar la velocidad de entrenamiento, el uso de los recursos y en consecuencia el rendimiento del modelo.\n",
    "\n",
    "### **Embedings** (incrustaciones): son representaciones numéricas de objetos del mundo real que los sistemas de ML utilizan para comprender dominios de conocimiento complejos. Esto convierte objetos del mundo real en representaciones matemáticas complejas. Permiten que los modelos entiendan los dominios de datos del mundo real de manera más eficaz, simplificando la manera de representar los datos. En palabras más simples, es una forma de representar datos en vectores númericos para un procesamiento mas sencillo.\n",
    "\n",
    "### **Agentes**: Son entidades que son concientes de su entorno, (ej: a través de sensores) y tomar decisiones para lograr un objetivo. Se podria decir que son robots/software que observa, piensa y actúa. "
   ]
  }
 ],
 "metadata": {
  "language_info": {
   "name": "python"
  }
 },
 "nbformat": 4,
 "nbformat_minor": 5
}
