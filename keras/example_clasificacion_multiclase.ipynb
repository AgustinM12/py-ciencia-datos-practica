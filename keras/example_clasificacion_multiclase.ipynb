{
 "cells": [
  {
   "cell_type": "code",
   "execution_count": null,
   "id": "5d0d1d4e",
   "metadata": {},
   "outputs": [],
   "source": [
    "import pandas as pd\n",
    "import numpy as np\n",
    "import tensorflow as tf\n",
    "from tensorflow.keras.preprocessing.text import Tokenizer\n",
    "from tensorflow.keras.preprocessing.sequence import pad_sequences\n",
    "from tensorflow.keras.utils import to_categorical\n",
    "from tensorflow.keras.models import Sequential\n",
    "from tensorflow.keras.layers import Embedding, GlobalAveragePooling1D, Dense\n",
    "\n",
    "# 1. Cargar datos\n",
    "df = pd.read_csv(\"peliculas.csv\")\n",
    "\n",
    "# 2. Preprocesar\n",
    "texts = df[\"synopsis\"].astype(str).values\n",
    "genres = df[\"genre\"].astype(str).values\n",
    "\n",
    "# Codificar géneros manualmente (sin sklearn)\n",
    "unique_genres = sorted(set(genres))\n",
    "genre_to_index = {genre: i for i, genre in enumerate(unique_genres)}\n",
    "index_to_genre = {i: genre for genre, i in genre_to_index.items()}\n",
    "y = np.array([genre_to_index[g] for g in genres])\n",
    "y = to_categorical(y, num_classes=len(unique_genres))\n",
    "\n",
    "# Tokenizar texto\n",
    "tokenizer = Tokenizer(num_words=5000, oov_token=\"<OOV>\")\n",
    "tokenizer.fit_on_texts(texts)\n",
    "sequences = tokenizer.texts_to_sequences(texts)\n",
    "X = pad_sequences(sequences, maxlen=100)\n",
    "\n",
    "# Separar datos manualmente (80/20)\n",
    "split_idx = int(0.8 * len(X))\n",
    "X_train, X_test = X[:split_idx], X[split_idx:]\n",
    "y_train, y_test = y[:split_idx], y[split_idx:]\n",
    "\n",
    "# 3. Construir modelo\n",
    "model = Sequential([\n",
    "    Embedding(input_dim=5000, output_dim=64, input_length=100),\n",
    "    GlobalAveragePooling1D(),\n",
    "    Dense(64, activation=\"relu\"),\n",
    "    Dense(len(unique_genres), activation=\"softmax\")\n",
    "])\n",
    "\n",
    "model.compile(optimizer=\"adam\", loss=\"categorical_crossentropy\", metrics=[\"accuracy\"])\n",
    "\n",
    "# 4. Entrenar\n",
    "model.fit(X_train, y_train, epochs=10, validation_data=(X_test, y_test))\n",
    "\n",
    "# 5. Predicción de ejemplo\n",
    "def predecir_genero(sinopsis):\n",
    "    seq = tokenizer.texts_to_sequences([sinopsis])\n",
    "    padded = pad_sequences(seq, maxlen=100)\n",
    "    pred = model.predict(padded)\n",
    "    return index_to_genre[np.argmax(pred)]\n",
    "\n",
    "print(predecir_genero(\"A young man finds a mysterious object in the woods.\"))\n"
   ]
  }
 ],
 "metadata": {
  "kernelspec": {
   "display_name": "keras-env",
   "language": "python",
   "name": "python3"
  },
  "language_info": {
   "codemirror_mode": {
    "name": "ipython",
    "version": 3
   },
   "file_extension": ".py",
   "mimetype": "text/x-python",
   "name": "python",
   "nbconvert_exporter": "python",
   "pygments_lexer": "ipython3",
   "version": "3.10.0"
  }
 },
 "nbformat": 4,
 "nbformat_minor": 5
}
