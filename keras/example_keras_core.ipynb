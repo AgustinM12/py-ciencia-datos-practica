{
 "cells": [
  {
   "cell_type": "markdown",
   "id": "a2c22731",
   "metadata": {},
   "source": [
    "### Se puede utilizar de 2 maneras\n",
    "\n",
    "* Mediante el framework Tensorflow (utilizandolo como motor).\n",
    "* Utiliando un motor diferente (pytorch, jax, etc)."
   ]
  },
  {
   "cell_type": "code",
   "execution_count": null,
   "id": "13223d2b",
   "metadata": {},
   "outputs": [],
   "source": [
    "\n",
    "#  Ejemplo con \"torch\" como motor:\n",
    "\n",
    "import os\n",
    "\n",
    "os.environ[\"KERAS_BACKEND\"] = \"torch\"\n",
    "\n",
    "import keras_core"
   ]
  },
  {
   "cell_type": "code",
   "execution_count": null,
   "id": "dcb3f7ee",
   "metadata": {},
   "outputs": [
    {
     "data": {
      "text/plain": [
       "''"
      ]
     },
     "execution_count": 2,
     "metadata": {},
     "output_type": "execute_result"
    }
   ],
   "source": [
    "# Ejemplo utilzando Keras con Tensorflow por defecto:\n",
    "\n",
    "from tensorflow import keras \n",
    "import tensorflow as tf\n",
    "\n",
    "# En caso de que usemos un gpu, lo verificaremos con esto\n",
    "tf.test.gpu_device_name()"
   ]
  }
 ],
 "metadata": {
  "kernelspec": {
   "display_name": "keras-env",
   "language": "python",
   "name": "python3"
  },
  "language_info": {
   "codemirror_mode": {
    "name": "ipython",
    "version": 3
   },
   "file_extension": ".py",
   "mimetype": "text/x-python",
   "name": "python",
   "nbconvert_exporter": "python",
   "pygments_lexer": "ipython3",
   "version": "3.10.0"
  }
 },
 "nbformat": 4,
 "nbformat_minor": 5
}
